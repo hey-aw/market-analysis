{
 "cells": [
  {
   "cell_type": "markdown",
   "metadata": {},
   "source": [
    "# Sentiment analysis validation"
   ]
  },
  {
   "cell_type": "code",
   "execution_count": 65,
   "metadata": {},
   "outputs": [],
   "source": [
    "# Load annotations data\n",
    "# Load the annotations from the individual csv files\n",
    "import pandas as pd\n",
    "from matplotlib.pylab import annotations\n",
    "\n",
    "\n",
    "\n",
    "DATA_PATH = \"data/\"\n",
    "annotations_df = pd.read_csv(DATA_PATH + \"annotations.csv\")\n"
   ]
  },
  {
   "cell_type": "code",
   "execution_count": 66,
   "metadata": {},
   "outputs": [],
   "source": [
    "# Set up the LLM Chain\n",
    "\n",
    "# Import necessary libraries\n",
    "from langchain_core.runnables import Runnable\n",
    "from langchain.text_splitter import RecursiveCharacterTextSplitter\n",
    "from langchain.chains.openai_functions import create_openai_fn_runnable\n",
    "from langchain_openai import AzureChatOpenAI\n",
    "from langchain_core.prompts import ChatPromptTemplate\n",
    "from langchain_core.pydantic_v1 import BaseModel, Field\n",
    "from typing import List\n",
    "import asyncio\n",
    "\n",
    "\n",
    "class Annotation(BaseModel):\n",
    "    \"\"\"Identify and annotate the presence of themes in the transcript.\"\"\"\n",
    "    sentiment_score: float = Field(..., description=\"The sentiment score where -1 is strongly negative and 1 is strongly positive.\")\n",
    "    \n",
    "\n",
    "INSTRUCTIONS = \"\"\"Sentiment Analysis Guidelines\n",
    "Positive Sentiment (+0.1 to +1): Identified by positive linguistic indicators ranging from mild to strong.\n",
    "Neutral Sentiment (0): Factual or informational content without emotional indicators.\n",
    "Negative Sentiment (-0.1 to -1): Identified by negative linguistic indicators ranging from mild to strong.\n",
    "\"\"\"\n",
    "\n",
    "\n",
    "# Chat Prompt Template from instructions\n",
    "prompt = ChatPromptTemplate.from_messages(\n",
    "    [\n",
    "    (\"system\", INSTRUCTIONS),\n",
    "    (\"human\", \"Process transcript:\\n {text}\"),\n",
    "    ]\n",
    ")\n",
    "\n",
    "llm= AzureChatOpenAI(azure_deployment=\"eddo-gpt4\")\n",
    "runnable = create_openai_fn_runnable([Annotation], llm, prompt)\n",
    "\n",
    "def process_text(text):\n",
    "    \"\"\"Process a transcript segment and return a list of annotations.\"\"\"\n",
    "    try:\n",
    "        response = runnable.invoke({\"text\": text})\n",
    "        return response\n",
    "    except Exception as e:\n",
    "        print(f\"Error processing text: {e}\")\n",
    "        return []\n",
    "    \n",
    "\n"
   ]
  },
  {
   "cell_type": "code",
   "execution_count": 70,
   "metadata": {},
   "outputs": [
    {
     "name": "stdout",
     "output_type": "stream",
     "text": [
      "Snippet: Daylene Long (11:01):\n",
      "\n",
      "See\n",
      "\n",
      "Erin/Sean (11:01):\n",
      "\n",
      "How it works in the real world with disease and things. We're actually doing same thing too. The COVID had a lot of information at that conference just going into the, so we were trying to look at buying many PCR machines. So the one that stepped out was mini PCR. So I talked to the vendor and told her about our school and our students and their needs and purchased a couple of their machines of their PCR machines, their DNA fingerprinted machines, couple of their lab kits.\n",
      "\n",
      "Erin/Sean (11:39):\n",
      "\n",
      "And again, my intention was to try to get kids some skill. I can pipette or I can test my own DNA because our students at the end of the day, their motivation level is ground zero unfortunately, especially with science, whether it's academic or motivation or what's this have to do with me, why do I need to learn about population graphs and DNA structure, things that we teach. So I was almost thinking this is a real world happening day going into crispr, going into real world technology with the science for learning that will and is affecting their lives today. So that's why I went with that mini PCR to start. Has\n",
      "Sentiment Score: 0.3\n",
      "[0.3, 0.1, 0.2, 0.5, 0.2, 0.2, 0.4, 0.1, 0.1, 0.3]\n"
     ]
    }
   ],
   "source": [
    "# Get a sample of 3 annotations\n",
    "\n",
    "\n",
    "sample = annotations_df.sample(1)\n",
    "TRIALS = 10\n",
    "\n",
    "# Process the text\n",
    "snippet = sample[\"snippet\"].values[0]\n",
    "sentiment_score = sample[\"sentiment_score\"].values[0]\n",
    "print(f\"Snippet: {snippet}\")\n",
    "print(f\"Sentiment Score: {sentiment_score}\")\n",
    "\n",
    "trial_results = []\n",
    "for i in range(TRIALS):\n",
    "    results =  process_text(snippet)\n",
    "    trial_results.append(results.sentiment_score)\n",
    "    \n",
    "print(trial_results)"
   ]
  },
  {
   "cell_type": "code",
   "execution_count": 82,
   "metadata": {},
   "outputs": [
    {
     "name": "stdout",
     "output_type": "stream",
     "text": [
      "[0.3, 0.1, 0.2, 0.5, 0.2, 0.2, 0.4, 0.1, 0.1, 0.3, 0.2, 0.2, 0.3, 0.1, 0.4, 0.1, 0.1, 0.4, 0.3, 0.2, 0.2, 0.8, 0.2, 0.3, 0.1, 0.2, 0.1, 0.0, 0.2, 0.2, 0.1, 0.2, 0.2, 0.5, 0.3, 0.3, 0.1, 0.1, 0.2, 0.2, 0.3, 0.2, -0.2, 0.1, 0.2, 0.0, 0.1, 0.3, 0.1, 0.3]\n"
     ]
    }
   ],
   "source": [
    "# Increase to N trials\n",
    "N = 50\n",
    "\n",
    "while len(trial_results) < N:\n",
    "    results =  process_text(snippet)\n",
    "    trial_results.append(results.sentiment_score)\n",
    "    \n",
    "print(trial_results)"
   ]
  },
  {
   "cell_type": "code",
   "execution_count": 96,
   "metadata": {},
   "outputs": [
    {
     "name": "stdout",
     "output_type": "stream",
     "text": [
      "Counter({0.2: 17, 0.1: 14, 0.3: 10, 0.4: 3, 0.5: 2, 0.0: 2, 0.8: 1, -0.2: 1})\n"
     ]
    },
    {
     "data": {
      "image/png": "[encoded data removed]",
      "text/plain": [
       "<Figure size 640x480 with 1 Axes>"
      ]
     },
     "metadata": {},
     "output_type": "display_data"
    },
    {
     "name": "stdout",
     "output_type": "stream",
     "text": [
      "0.212\n",
      "0.15051910177781422\n",
      "0.02128661551304011\n",
      "(0.16878864867853483, 0.25521135132146516)\n",
      "0.6744897501960817\n",
      "1.0307039602197032\n"
     ]
    }
   ],
   "source": [
    "# Possible values of the sentiment score: -1, -0.9, ...\n",
    "\n",
    "# Treat the sentiment score as a categorical variable\n",
    "# Calculate the probability of each value\n",
    "from collections import Counter\n",
    "counts = Counter(trial_results)\n",
    "print(counts)\n",
    "\n",
    "# show the probability of each value\n",
    "import numpy as np\n",
    "import matplotlib.pyplot as plt\n",
    "plt.bar(counts.keys(), counts.values())\n",
    "plt.show()\n",
    "\n",
    "# Calculate the mean of the sentiment score\n",
    "print(np.mean(trial_results))\n",
    "\n",
    "# Calculate the standard deviation of the sentiment score\n",
    "print(np.std(trial_results))\n",
    "\n",
    "# Calculate the standard error of the sentiment score\n",
    "print(np.std(trial_results) / np.sqrt(len(trial_results)))\n",
    "\n",
    "# Calculate the 95% confidence interval of the sentiment score\n",
    "import scipy.stats as st\n",
    "print(st.t.interval(0.95, len(trial_results)-1, loc=np.mean(trial_results), scale=st.sem(trial_results)))\n",
    "\n",
    "# What sample size is needed to get \"75% confidence\" that the sentiment score is within 0.1 of the true value?\n",
    "# Use the formula: n = (z * s / e)^2\n",
    "# n = sample size\n",
    "# z = z-score for confidence level\n",
    "# s = standard deviation\n",
    "\n",
    "# Calculate the z-score for 75% confidence\n",
    "z = st.norm.ppf(0.75)\n",
    "print(z)\n",
    "\n",
    "# n should be at\n",
    "n = (z * np.std(trial_results) / 0.1)**2\n",
    "\n",
    "print(n)"
   ]
  }
 ],
 "metadata": {
  "kernelspec": {
   "display_name": "market-analysis-OkwLYUTU-py3.11",
   "language": "python",
   "name": "python3"
  },
  "language_info": {
   "codemirror_mode": {
    "name": "ipython",
    "version": 3
   },
   "file_extension": ".py",
   "mimetype": "text/x-python",
   "name": "python",
   "nbconvert_exporter": "python",
   "pygments_lexer": "ipython3",
   "version": "3.11.7"
  }
 },
 "nbformat": 4,
 "nbformat_minor": 2
}
